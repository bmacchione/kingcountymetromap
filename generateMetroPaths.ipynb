{
 "cells": [
  {
   "cell_type": "code",
   "execution_count": 2,
   "metadata": {},
   "outputs": [
    {
     "name": "stdout",
     "output_type": "stream",
     "text": [
      "Overwriting metropaths.py\n"
     ]
    }
   ],
   "source": [
    "%%writefile metropaths.py\n",
    "\n",
    "import pandas as pd\n",
    "route_names = pd.read_csv('routes.txt')\n",
    "\n",
    "allRoutes = dict(zip(route_names.route_short_name, route_names.route_desc))\n",
    "idshort = dict(zip(route_names.route_id, route_names.route_short_name))\n",
    "\n",
    "trips = pd.read_csv('trips.txt')\n",
    "idtrip = dict(zip(trips.route_id, trips.shape_id))\n",
    "\n",
    "shapeshort = {}\n",
    "for key in idtrip:\n",
    "    shapeshort[idtrip[key]] = idshort[key]\n",
    "    \n",
    "shapes = pd.read_csv('shapes.txt')\n",
    "\n",
    "from collections import defaultdict\n",
    "shapedata = defaultdict(list)\n",
    "x = 0\n",
    "for index, row in shapes.iterrows():\n",
    "    key = shapes.loc[x, 'shape_id']\n",
    "    value = {'lat': shapes.loc[x, 'shape_pt_lat'], 'lon': shapes.loc[x, 'shape_pt_lon']}\n",
    "    if key not in shapedata:\n",
    "        shapedata[key] = []\n",
    "    shapedata[key].append(value)\n",
    "    x += 1\n",
    "    \n",
    "allRoutesShapeData = {}\n",
    "for key in shapeshort:\n",
    "    allRoutesShapeData[shapeshort[key]] = shapedata[key]\n",
    "    "
   ]
  },
  {
   "cell_type": "code",
   "execution_count": null,
   "metadata": {},
   "outputs": [],
   "source": []
  }
 ],
 "metadata": {
  "kernelspec": {
   "display_name": "Python 3",
   "language": "python",
   "name": "python3"
  },
  "language_info": {
   "codemirror_mode": {
    "name": "ipython",
    "version": 3
   },
   "file_extension": ".py",
   "mimetype": "text/x-python",
   "name": "python",
   "nbconvert_exporter": "python",
   "pygments_lexer": "ipython3",
   "version": "3.7.1"
  }
 },
 "nbformat": 4,
 "nbformat_minor": 2
}
