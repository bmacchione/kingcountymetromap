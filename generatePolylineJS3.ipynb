{
 "cells": [
  {
   "cell_type": "code",
   "execution_count": 3,
   "metadata": {},
   "outputs": [],
   "source": [
    "from metropaths import allRoutesShapeData\n",
    "import random\n",
    "import ast"
   ]
  },
  {
   "cell_type": "code",
   "execution_count": 4,
   "metadata": {},
   "outputs": [],
   "source": [
    "COLORS = ['#FF0000', '#00FF00', '#0000FF', '#FFFF00', '#00FFFF', '#FF00FF', '#800000', '#008000', '#000080', '#808000', '#008080', '#800080']"
   ]
  },
  {
   "cell_type": "code",
   "execution_count": 5,
   "metadata": {},
   "outputs": [],
   "source": [
    "fo = open('polylineJS3.js', 'w')\n",
    "\n",
    "allRoutesJavaScript = {}\n",
    "for key in allRoutesShapeData:\n",
    "    routeJavaScript = []\n",
    "    latlngJavaScript = []\n",
    "    for point in allRoutesShapeData[key]:\n",
    "        latlngJavaScript.append('%s,%s' % (point['lat'], point['lon']))\n",
    "    routeJavaScript.append('[' + ','.join(latlngJavaScript) + ']')\n",
    "    allRoutesJavaScript[key] = '[' + ','.join(routeJavaScript) + ']'\n",
    "\n",
    "for key in allRoutesJavaScript:\n",
    "    allRoutesJavaScript[key] = ast.literal_eval(allRoutesJavaScript[key])\n",
    "    \n",
    "fo.write('var allData = {%s};\\n' % (allRoutesJavaScript))\n",
    "\n",
    "colorAssignments = []\n",
    "for key in allRoutesShapeData:\n",
    "    colorAssignments.append('\"%s\": \"%s\"' % (key, random.choice(COLORS)))\n",
    "    \n",
    "fo.write('var routeColors = {%s};\\n' % ','.join(colorAssignments))\n",
    "\n",
    "routeList = []\n",
    "for key in allRoutesShapeData:\n",
    "    routeList.append(key)\n",
    "    \n",
    "fo.write('var routeNames = [\"%s\"];\\n' % ('\",\"'.join(routeList)))\n",
    "\n",
    "fo.write(\"\"\"\n",
    "for (var i = 0; i < routeNames.length; i++) { // loop over each route\n",
    "   var routeName = routeNames[i];\n",
    "   for (var j = 0; j < allData[routeName].length; j++) { // loop over each path on the route\n",
    "       var curPath = allData[routeName][j];\n",
    "       var polylinePoints = [];\n",
    "       for (var k = 0; k < curPath.length; k += 2) { // loop over each point in the path\n",
    "           polylinePoints.push(new google.maps.LatLng(curPath[k], curPath[k+1]));\n",
    "       }\n",
    "       var routePath = new google.maps.Polyline({\n",
    "           path: polylinePoints,\n",
    "           strokeColor: routeColors[routeName],\n",
    "           strokeOpacity: 1.0,\n",
    "           strokeWeight: 2\n",
    "           });\n",
    "       routePath.setMap(map);\n",
    "   }\n",
    "}\n",
    "\"\"\");\n",
    "\n",
    "\n",
    "fo.close()"
   ]
  },
  {
   "cell_type": "code",
   "execution_count": null,
   "metadata": {},
   "outputs": [],
   "source": []
  }
 ],
 "metadata": {
  "kernelspec": {
   "display_name": "Python 3",
   "language": "python",
   "name": "python3"
  },
  "language_info": {
   "codemirror_mode": {
    "name": "ipython",
    "version": 3
   },
   "file_extension": ".py",
   "mimetype": "text/x-python",
   "name": "python",
   "nbconvert_exporter": "python",
   "pygments_lexer": "ipython3",
   "version": "3.7.1"
  }
 },
 "nbformat": 4,
 "nbformat_minor": 2
}
